{
 "cells": [
  {
   "cell_type": "markdown",
   "metadata": {},
   "source": [
    "**Exercise 6.3** One of the longest-lived small patters is \"rabbits\", which starts with 9 live cells and takes 17,331 steps to stabilize. You can get the initial configuration in various formats from `http://thinkcomplex.com/rabbits`. Load this configuration and run it."
   ]
  },
  {
   "cell_type": "code",
   "execution_count": 18,
   "metadata": {},
   "outputs": [],
   "source": [
    "%matplotlib inline\n",
    "\n",
    "import matplotlib.pyplot as plt\n",
    "import numpy as np\n",
    "import seaborn as sns\n",
    "from scipy.signal import correlate2d\n",
    "from Cell2D import Cell2D\n",
    "\n",
    "class Life(Cell2D):\n",
    "    \n",
    "    kernel = np.array([[1, 1, 1],\n",
    "                       [1, 10, 1],\n",
    "                       [1, 1, 1]])\n",
    "    table = np.zeros(20, dtype = np.uint8)\n",
    "    table[[3, 12, 13]] = 1\n",
    "    \n",
    "    def step(self):\n",
    "        c = correlate2d(self.array, self.kernel, mode='same')\n",
    "        self.array = self.table[c]\n",
    "        \n",
    "def read_GoL_file(life, filename, row, col):\n",
    "    i = row\n",
    "    life_file = open(filename)\n",
    "    for i, line in enumerate(life_file):\n",
    "        if line.startswith(\"!\"):\n",
    "            continue\n",
    "        line = line.strip() #removes whitespace\n",
    "        line = line.replace('O', '1')\n",
    "        line = line.replace('.', '0')\n",
    "        life.add_cells(i, col, line)"
   ]
  },
  {
   "cell_type": "markdown",
   "metadata": {},
   "source": [
    "After downloading the plaintext file `rabbits.cells.txt`, we can then read the initial configuration needed using `read_GoL_file` function from exercise 6.2."
   ]
  },
  {
   "cell_type": "code",
   "execution_count": 20,
   "metadata": {},
   "outputs": [
    {
     "data": {
      "text/plain": [
       "<Figure size 432x288 with 0 Axes>"
      ]
     },
     "metadata": {},
     "output_type": "display_data"
    }
   ],
   "source": [
    "n, m = 50, 50\n",
    "row, col = 30, 30\n",
    "\n",
    "life = Life(n,m)\n",
    "filename = 'rabbits.cells.txt'\n",
    "read_GoL_file(life, filename, row, col)\n",
    "life.animate(17500, 0.01)"
   ]
  },
  {
   "cell_type": "code",
   "execution_count": null,
   "metadata": {},
   "outputs": [],
   "source": []
  }
 ],
 "metadata": {
  "kernelspec": {
   "display_name": "Python 3",
   "language": "python",
   "name": "python3"
  },
  "language_info": {
   "codemirror_mode": {
    "name": "ipython",
    "version": 3
   },
   "file_extension": ".py",
   "mimetype": "text/x-python",
   "name": "python",
   "nbconvert_exporter": "python",
   "pygments_lexer": "ipython3",
   "version": "3.7.4"
  }
 },
 "nbformat": 4,
 "nbformat_minor": 2
}
