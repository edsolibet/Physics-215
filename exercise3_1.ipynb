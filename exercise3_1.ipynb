{
 "cells": [
  {
   "cell_type": "markdown",
   "metadata": {
    "id": "ctDCW9JhQIp2"
   },
   "source": [
    "**Exercise**: In a ring lattice, every node has the same number of neighbors. The number of neighbors is called the degree of the node, and a graph where all nodes have the same degree is called a regular graph.\n",
    "\n",
    "All ring lattices are regular, but not all regular graphs are ring lattices. In particular, if k is odd, we can't construct a ring lattice, but we might be able to construct a regular graph.\n",
    "\n",
    "Write a function called `make_regular_graph` that takes `n` and `k` and returns a regular graph that contains `n` nodes, where every node has `k` neighbors. If it's not possible to make a regular graph with the given values of `n` and `k`, the function should raise a ValueError."
   ]
  },
  {
   "cell_type": "code",
   "execution_count": 1,
   "metadata": {},
   "outputs": [
    {
     "name": "stderr",
     "output_type": "stream",
     "text": [
      "C:\\Users\\Carlo\\Anaconda3\\lib\\site-packages\\statsmodels\\tools\\_testing.py:19: FutureWarning: pandas.util.testing is deprecated. Use the functions in the public API at pandas.testing instead.\n",
      "  import pandas.util.testing as tm\n"
     ]
    }
   ],
   "source": [
    "import networkx as nx\n",
    "import numpy as np\n",
    "import seaborn as sns\n",
    "import math as m\n",
    "\n",
    "# set node colors\n",
    "colors = sns.color_palette('pastel', 8)\n",
    "sns.set_palette(colors)"
   ]
  },
  {
   "cell_type": "markdown",
   "metadata": {},
   "source": [
    "This is the original implementation of the `adjacent_edges` function to get the edges for a ring lattice which takes the `nodes` and `halfk` as inputs:"
   ]
  },
  {
   "cell_type": "code",
   "execution_count": 2,
   "metadata": {},
   "outputs": [],
   "source": [
    "def adjacent_edges(nodes, halfk):\n",
    "    n = len(nodes)\n",
    "    for i, u in enumerate(nodes):\n",
    "        for j in range(i+1, i+halfk+1):\n",
    "            v = nodes[j % n]\n",
    "            yield u,v"
   ]
  },
  {
   "cell_type": "markdown",
   "metadata": {},
   "source": [
    "Here is a test for `adjacent_edges` using even number of nodes and even neighbors:"
   ]
  },
  {
   "cell_type": "code",
   "execution_count": 3,
   "metadata": {},
   "outputs": [
    {
     "data": {
      "text/plain": [
       "[(0, 1),\n",
       " (0, 2),\n",
       " (0, 3),\n",
       " (0, 4),\n",
       " (1, 2),\n",
       " (1, 3),\n",
       " (1, 4),\n",
       " (1, 5),\n",
       " (2, 3),\n",
       " (2, 4),\n",
       " (2, 5),\n",
       " (2, 6),\n",
       " (3, 4),\n",
       " (3, 5),\n",
       " (3, 6),\n",
       " (3, 7),\n",
       " (4, 5),\n",
       " (4, 6),\n",
       " (4, 7),\n",
       " (4, 0),\n",
       " (5, 6),\n",
       " (5, 7),\n",
       " (5, 0),\n",
       " (5, 1),\n",
       " (6, 7),\n",
       " (6, 0),\n",
       " (6, 1),\n",
       " (6, 2),\n",
       " (7, 0),\n",
       " (7, 1),\n",
       " (7, 2),\n",
       " (7, 3)]"
      ]
     },
     "execution_count": 3,
     "metadata": {},
     "output_type": "execute_result"
    }
   ],
   "source": [
    "nodes = range(8)\n",
    "list(adjacent_edges(nodes, 4))"
   ]
  },
  {
   "cell_type": "markdown",
   "metadata": {},
   "source": [
    "I have modified `adjacent_edges` to `regular_edges` that takes the list of nodes and the number of neighbors `k` to give the edges for a regular graph with even or odd neighbors for each node. "
   ]
  },
  {
   "cell_type": "code",
   "execution_count": 4,
   "metadata": {},
   "outputs": [],
   "source": [
    "def regular_edges(nodes, k):\n",
    "    n = len(nodes)\n",
    "    ed = [] # list placeholder for edges\n",
    "    for i, u in enumerate(nodes):\n",
    "        ne = m.floor(k/2) #floor function similar to adjacent_edges\n",
    "        for j in range(i+1, i+ne+1):\n",
    "            v = nodes[j % n]\n",
    "            ed.append((u, v))\n",
    "        if (k % 2) and i < n/2: # conditional to check if there are odd neighbors\n",
    "            ed.append((u, int(i+n/2)))\n",
    "    if len(ed) != 0.5*n*k: # conditional to check if the number of edges satisfy for a regular graph\n",
    "        raise ValueError(\"No regular graph can be formed!\")\n",
    "    return ed"
   ]
  },
  {
   "cell_type": "markdown",
   "metadata": {},
   "source": [
    "Here is a check for `regular_edges` using odd `k`:"
   ]
  },
  {
   "cell_type": "code",
   "execution_count": 5,
   "metadata": {},
   "outputs": [
    {
     "data": {
      "text/plain": [
       "[(0, 1),\n",
       " (0, 2),\n",
       " (1, 2),\n",
       " (1, 3),\n",
       " (2, 3),\n",
       " (2, 4),\n",
       " (3, 4),\n",
       " (3, 0),\n",
       " (4, 0),\n",
       " (4, 1)]"
      ]
     },
     "execution_count": 5,
     "metadata": {},
     "output_type": "execute_result"
    }
   ],
   "source": [
    "nodes = range(5)\n",
    "neighbors = 4                   \n",
    "list(regular_edges(nodes, neighbors))  "
   ]
  },
  {
   "cell_type": "markdown",
   "metadata": {},
   "source": [
    "Here is the `make_regular_graph` function that creates a regular graph given the number of nodes and the number of neighbors per node. It gives a `Value Error` when the given `n` and `k` values cannot create a regular graph."
   ]
  },
  {
   "cell_type": "code",
   "execution_count": 6,
   "metadata": {},
   "outputs": [],
   "source": [
    "def make_regular_graph(n, k):\n",
    "    G = nx.Graph()\n",
    "    nodes = range(n)\n",
    "    G.add_nodes_from(nodes)\n",
    "    edges = regular_edges(nodes,k)\n",
    "    G.add_edges_from(edges)\n",
    "    return G"
   ]
  },
  {
   "cell_type": "code",
   "execution_count": 7,
   "metadata": {},
   "outputs": [
    {
     "name": "stderr",
     "output_type": "stream",
     "text": [
      "C:\\Users\\Carlo\\Anaconda3\\lib\\site-packages\\networkx\\drawing\\nx_pylab.py:579: MatplotlibDeprecationWarning: \n",
      "The iterable function was deprecated in Matplotlib 3.1 and will be removed in 3.3. Use np.iterable instead.\n",
      "  if not cb.iterable(width):\n"
     ]
    },
    {
     "data": {
      "image/png": "[encoded data removed]",
      "text/plain": [
       "<Figure size 432x288 with 1 Axes>"
      ]
     },
     "metadata": {},
     "output_type": "display_data"
    }
   ],
   "source": [
    "nodes = 4\n",
    "neighbors = 3\n",
    "reg_graph = make_regular_graph(nodes, neighbors)\n",
    "nx.draw_circular(reg_graph,\n",
    "                node_color = 'C2',\n",
    "                node_size = 2000,\n",
    "                with_labels = True)"
   ]
  }
 ],
 "metadata": {
  "colab": {
   "name": "Untitled0.ipynb",
   "provenance": []
  },
  "kernelspec": {
   "display_name": "Python 3",
   "language": "python",
   "name": "python3"
  },
  "language_info": {
   "codemirror_mode": {
    "name": "ipython",
    "version": 3
   },
   "file_extension": ".py",
   "mimetype": "text/x-python",
   "name": "python",
   "nbconvert_exporter": "python",
   "pygments_lexer": "ipython3",
   "version": "3.7.4"
  }
 },
 "nbformat": 4,
 "nbformat_minor": 1
}
