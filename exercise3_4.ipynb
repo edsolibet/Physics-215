{
 "cells": [
  {
   "cell_type": "markdown",
   "metadata": {},
   "source": [
    "**Exercise:** In the book, I claimed that Dijkstra's algorithm does not work unless it uses BFS.  Write a version of `shortest_path_dijkstra` that uses DFS and test it on a few examples to see what goes wrong."
   ]
  },
  {
   "cell_type": "code",
   "execution_count": 1,
   "metadata": {},
   "outputs": [
    {
     "name": "stderr",
     "output_type": "stream",
     "text": [
      "C:\\Users\\Carlo\\Anaconda3\\lib\\site-packages\\statsmodels\\tools\\_testing.py:19: FutureWarning: pandas.util.testing is deprecated. Use the functions in the public API at pandas.testing instead.\n",
      "  import pandas.util.testing as tm\n"
     ]
    }
   ],
   "source": [
    "import networkx as nx\n",
    "import numpy as np\n",
    "import math as m\n",
    "import seaborn as sns\n",
    "import timeit\n",
    "\n",
    "# set node colors\n",
    "colors = sns.color_palette('pastel', 8)\n",
    "sns.set_palette(colors)\n",
    "\n",
    "# from excercise3_1\n",
    "def regular_edges(nodes, k):\n",
    "    n = len(nodes)\n",
    "    ed = [] # list placeholder for edges\n",
    "    for i, u in enumerate(nodes):\n",
    "        ne = m.floor(k/2) #floor function similar to adjacent_edges\n",
    "        for j in range(i+1, i+ne+1):\n",
    "            v = nodes[j % n]\n",
    "            ed.append((u, v))\n",
    "        if (k % 2) and i < n/2: # conditional to check if there are odd neighbors\n",
    "            ed.append((u, int(i+n/2)))\n",
    "    if len(ed) != 0.5*n*k: # conditional to check if the number of edges satisfy for a regular graph\n",
    "        raise ValueError(\"No regular graph can be formed!\")\n",
    "    return ed\n",
    "\n",
    "def make_graph(n, k):\n",
    "    G = nx.Graph()\n",
    "    nodes = range(n)\n",
    "    G.add_nodes_from(nodes)\n",
    "    G.add_edges_from(regular_edges(nodes, k))\n",
    "    return G\n",
    "\n",
    "def make_WS_graph(n, k, p):\n",
    "    G = make_graph(n, k)\n",
    "    nodes = set(G) #create list of iterable\n",
    "    for u, v in G.edges():\n",
    "        if np.random.random() < p:\n",
    "            choices = nodes - {u} - set(G[u]) # removes the node and its neighbors as the possible new neighbor\n",
    "            new_v = np.random.choice(list(choices))\n",
    "            G.remove_edge(u,v)\n",
    "            G.add_edge(u,new_v)\n",
    "    return G"
   ]
  },
  {
   "cell_type": "code",
   "execution_count": null,
   "metadata": {},
   "outputs": [],
   "source": [
    "We first make a WS graph to test the algorithms."
   ]
  },
  {
   "cell_type": "code",
   "execution_count": 2,
   "metadata": {},
   "outputs": [
    {
     "name": "stderr",
     "output_type": "stream",
     "text": [
      "C:\\Users\\Carlo\\Anaconda3\\lib\\site-packages\\networkx\\drawing\\nx_pylab.py:579: MatplotlibDeprecationWarning: \n",
      "The iterable function was deprecated in Matplotlib 3.1 and will be removed in 3.3. Use np.iterable instead.\n",
      "  if not cb.iterable(width):\n"
     ]
    },
    {
     "data": {
      "image/png": "[encoded data removed]",
      "text/plain": [
       "<Figure size 432x288 with 1 Axes>"
      ]
     },
     "metadata": {},
     "output_type": "display_data"
    }
   ],
   "source": [
    "np.random.seed(11)\n",
    "WS_graph = make_WS_graph(6, 3, 0.2)\n",
    "nx.draw_circular(WS_graph,\n",
    "                 node_color = 'C0',\n",
    "                 node_size = 1000,\n",
    "                 with_labels = True)"
   ]
  },
  {
   "cell_type": "markdown",
   "metadata": {},
   "source": [
    "Here is the original version of `shortest_path_dijkstra` which uses BFS:"
   ]
  },
  {
   "cell_type": "code",
   "execution_count": 9,
   "metadata": {},
   "outputs": [],
   "source": [
    "from collections import deque\n",
    "\n",
    "def shortest_path_dijkstra(G, source):\n",
    "    dist = {source: 0}\n",
    "    queue = deque([source])\n",
    "    while queue:\n",
    "        node = queue.popleft()\n",
    "        new_dist = dist[node] + 1\n",
    "\n",
    "        neighbors = set(G[node]).difference(dist)\n",
    "        for n in neighbors:\n",
    "            dist[n] = new_dist\n",
    "        \n",
    "        queue.extend(neighbors)\n",
    "    return dist"
   ]
  },
  {
   "cell_type": "markdown",
   "metadata": {},
   "source": [
    "To modify this so that it uses depth first search, we replace `queue.popleft()` with `queue.pop()`:"
   ]
  },
  {
   "cell_type": "code",
   "execution_count": 10,
   "metadata": {},
   "outputs": [],
   "source": [
    "def shortest_path_dfs(G, start):\n",
    "    dist = {start: 0}\n",
    "    queue = deque([start])\n",
    "    while queue:\n",
    "        node = queue.pop()\n",
    "        new_dist = dist[node] + 1\n",
    "\n",
    "        neighbors = set(G[node]).difference(dist)\n",
    "        for n in neighbors:\n",
    "            dist[n] = new_dist\n",
    "        \n",
    "        queue.extend(neighbors)\n",
    "    return dist"
   ]
  },
  {
   "cell_type": "code",
   "execution_count": 12,
   "metadata": {},
   "outputs": [
    {
     "name": "stdout",
     "output_type": "stream",
     "text": [
      "{0: 0, 1: 1, 2: 1, 3: 1, 4: 2, 5: 2}\n",
      "{0: 0, 1: 1, 2: 1, 3: 1, 4: 2, 5: 3}\n"
     ]
    },
    {
     "data": {
      "text/plain": [
       "False"
      ]
     },
     "execution_count": 12,
     "metadata": {},
     "output_type": "execute_result"
    }
   ],
   "source": [
    "ans1 = shortest_path_dijkstra(WS_graph, list(WS_graph)[0])\n",
    "ans2 = shortest_path_dfs(WS_graph, list(WS_graph)[0])\n",
    "print(ans1)\n",
    "print(ans2)\n",
    "ans1==ans2"
   ]
  },
  {
   "cell_type": "code",
   "execution_count": null,
   "metadata": {},
   "outputs": [],
   "source": []
  }
 ],
 "metadata": {
  "kernelspec": {
   "display_name": "Python 3",
   "language": "python",
   "name": "python3"
  },
  "language_info": {
   "codemirror_mode": {
    "name": "ipython",
    "version": 3
   },
   "file_extension": ".py",
   "mimetype": "text/x-python",
   "name": "python",
   "nbconvert_exporter": "python",
   "pygments_lexer": "ipython3",
   "version": "3.7.4"
  }
 },
 "nbformat": 4,
 "nbformat_minor": 2
}
