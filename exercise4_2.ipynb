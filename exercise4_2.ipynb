{
 "cells": [
  {
   "cell_type": "markdown",
   "metadata": {},
   "source": [
    "**Exercise 4.2** NetworkX provides a function called `powerlaw_cluster_graph` that implements the \"Holme and Kim algorithm for growing graphs with powerlaw degree distribution and approximate average clustering\". See if you can use it to generate a graph that has the same number of nodes as the Facebook dataset, the same average degree, and the same clustering coefficient. How does the degree distribution in the model compare to the acutal distribution?"
   ]
  },
  {
   "cell_type": "code",
   "execution_count": 23,
   "metadata": {},
   "outputs": [],
   "source": [
    "%matplotlib inline\n",
    "\n",
    "import matplotlib.pyplot as plt\n",
    "import networkx as nx\n",
    "import numpy as np\n",
    "import seaborn as sns\n",
    "\n",
    "#from utils import decorate\n",
    "\n",
    "# I set the random seed so the notebook \n",
    "# produces the same results every time.\n",
    "np.random.seed(17)\n",
    "\n",
    "# TODO: remove this when NetworkX is fixed\n",
    "from warnings import simplefilter\n",
    "import matplotlib.cbook\n",
    "simplefilter(\"ignore\", matplotlib.cbook.mplDeprecation)"
   ]
  },
  {
   "cell_type": "markdown",
   "metadata": {},
   "source": [
    "We use the `read_graph` function to import the Facebook data:"
   ]
  },
  {
   "cell_type": "code",
   "execution_count": 24,
   "metadata": {},
   "outputs": [
    {
     "data": {
      "text/plain": [
       "(4039, 88234, 22)"
      ]
     },
     "execution_count": 24,
     "metadata": {},
     "output_type": "execute_result"
    }
   ],
   "source": [
    "def read_graph(filename):\n",
    "    G = nx.Graph()\n",
    "    array = np.loadtxt(filename, dtype=int)\n",
    "    G.add_edges_from(array)\n",
    "    return G\n",
    "\n",
    "fb = read_graph('https://snap.stanford.edu/data/facebook_combined.txt.gz')\n",
    "fb_n = len(fb)\n",
    "fb_m = len(fb.edges())\n",
    "fb_k = int(round(fb_m/fb_n))\n",
    "fb_n, fb_m, fb_k"
   ]
  },
  {
   "cell_type": "markdown",
   "metadata": {},
   "source": [
    "The functions we need to compute the clustering coefficient and the degree are as follows:"
   ]
  },
  {
   "cell_type": "code",
   "execution_count": 25,
   "metadata": {},
   "outputs": [],
   "source": [
    "def degrees(G):\n",
    "    return [G.degree(u) for u in G]\n",
    "\n",
    "fb_deg = degrees(fb)\n",
    "\n",
    "def clustering_coefficient(G):\n",
    "    def node_clustering(G, u):\n",
    "        def all_pairs(nodes):\n",
    "            for i, u in enumerate(nodes):\n",
    "                for j, v in enumerate(nodes):\n",
    "                    if i > j:\n",
    "                        yield u, v\n",
    "        neighbors = G[u]\n",
    "        k = len(neighbors)\n",
    "        if k < 2:\n",
    "            return np.nan\n",
    "        possible = k*(k-1)/2\n",
    "        exist = 0\n",
    "        for v, w, in all_pairs(neighbors):\n",
    "            if G.has_edge(v, w):\n",
    "                exist+=1\n",
    "        return exist/possible\n",
    "\n",
    "    cu = [node_clustering(G, node) for node in G]\n",
    "    return np.nanmean(cu)"
   ]
  },
  {
   "cell_type": "markdown",
   "metadata": {},
   "source": [
    "The Facebook dataset has the following graph characteristics:"
   ]
  },
  {
   "cell_type": "code",
   "execution_count": 26,
   "metadata": {},
   "outputs": [
    {
     "name": "stdout",
     "output_type": "stream",
     "text": [
      "FB dataset # of nodes:  4039\n",
      "FB dataset average degree:  43.69101262688784\n",
      "FB dataset clustering coefficient:  0.6170038336292958\n"
     ]
    }
   ],
   "source": [
    "print (\"FB dataset # of nodes: \", fb_n)\n",
    "print (\"FB dataset average degree: \", np.mean(fb_deg))\n",
    "print (\"FB dataset clustering coefficient: \", clustering_coefficient(fb))"
   ]
  },
  {
   "cell_type": "markdown",
   "metadata": {},
   "source": [
    "The Holm and Kim algorithm function has the following documentation:\n",
    "\n",
    "nx.generators.random_graphs.powerlaw_cluster_graph(n, m, p, seed = None)\n",
    "\n",
    "where the parameters are:\n",
    "\n",
    "**n** (int) - the number of nodes\n",
    "\n",
    "**m** (int) - the number of random edges to add for each new node\n",
    "\n",
    "**p** (float) - probability of adding a triangle after adding a random edge\n",
    "\n",
    "**seed** (int, random_state, or None) - indicator of random number generation state"
   ]
  },
  {
   "cell_type": "markdown",
   "metadata": {},
   "source": [
    "From these parameters, we then use the Holm and Kim algorithm to generate a graph."
   ]
  },
  {
   "cell_type": "code",
   "execution_count": 27,
   "metadata": {},
   "outputs": [],
   "source": [
    "hk = nx.generators.random_graphs.powerlaw_cluster_graph(fb_n, fb_k, 0.8, seed = 11)\n",
    "\n",
    "hk_n = len(hk)\n",
    "hk_m = len(hk.edges())\n",
    "hk_k = int(round(hk_m/hk_n))\n",
    "hk_deg = degrees(hk)"
   ]
  },
  {
   "cell_type": "code",
   "execution_count": 28,
   "metadata": {},
   "outputs": [
    {
     "name": "stdout",
     "output_type": "stream",
     "text": [
      "HK # of nodes:  4039\n",
      "HK # of edges:  88110\n",
      "HK average degree:  43.62961128992325\n",
      "HK degree std:  44.09030408387874\n",
      "HK clustering coefficient:  0.09845855975864194\n"
     ]
    }
   ],
   "source": [
    "print (\"HK # of nodes: \", hk_n)\n",
    "print (\"HK # of edges: \", hk_m)\n",
    "print (\"HK average degree: \", np.mean(hk_deg))\n",
    "print (\"HK degree std: \", np.std(hk_deg))\n",
    "print (\"HK clustering coefficient: \", clustering_coefficient(hk))"
   ]
  },
  {
   "cell_type": "markdown",
   "metadata": {},
   "source": [
    "The number of nodes and the degree is very close to that of the Facebook dataset. The degree standard deviation is lower and the clustering coefficient is much smaller."
   ]
  },
  {
   "cell_type": "markdown",
   "metadata": {},
   "source": [
    "We can loop through `p` to see how it affects the average clustering coefficient of the graph."
   ]
  },
  {
   "cell_type": "code",
   "execution_count": 29,
   "metadata": {},
   "outputs": [],
   "source": [
    "p_ = np.array(range(11))/10\n",
    "p_\n",
    "\n",
    "hk_cc = []"
   ]
  },
  {
   "cell_type": "code",
   "execution_count": 30,
   "metadata": {},
   "outputs": [
    {
     "data": {
      "image/png": "[encoded data removed]",
      "text/plain": [
       "<Figure size 432x288 with 1 Axes>"
      ]
     },
     "metadata": {
      "needs_background": "light"
     },
     "output_type": "display_data"
    }
   ],
   "source": [
    "for p in p_:\n",
    "    hk_cc.append(clustering_coefficient(nx.generators.random_graphs.powerlaw_cluster_graph(hk_n, hk_k, p, seed = 11)))\n",
    "\n",
    "plt.plot(p_, hk_cc, label = \"clustering coefficient of Holm-Kim algorithm\")\n",
    "plt.xlabel(\"Probability p\")\n",
    "plt.ylabel(\"clustering coefficient\")\n",
    "plt.show()\n"
   ]
  },
  {
   "cell_type": "markdown",
   "metadata": {},
   "source": [
    "The clustering coefficient increases rapidly as `p` approaches 1, but is still much smaller than the clustering coefficient for the Facebook dataset of around 0.6."
   ]
  },
  {
   "cell_type": "markdown",
   "metadata": {},
   "source": [
    "We can compare the degree distributions of hk to the Facebook dataset using the Pmf."
   ]
  },
  {
   "cell_type": "code",
   "execution_count": 31,
   "metadata": {},
   "outputs": [
    {
     "data": {
      "text/plain": [
       "<matplotlib.legend.Legend at 0x1eb0d6030c8>"
      ]
     },
     "execution_count": 31,
     "metadata": {},
     "output_type": "execute_result"
    },
    {
     "data": {
      "image/png": "[encoded data removed]",
      "text/plain": [
       "<Figure size 432x288 with 1 Axes>"
      ]
     },
     "metadata": {
      "needs_background": "light"
     },
     "output_type": "display_data"
    }
   ],
   "source": [
    "from empiricaldist import Pmf\n",
    "\n",
    "pmf_fb = Pmf.from_seq(fb_deg)\n",
    "pmf_hk = Pmf.from_seq(hk_deg)\n",
    "\n",
    "pmf_fb.plot(label='Facebook', color='C0')\n",
    "pmf_hk.plot(label='Holm-Kim graph', color='C1')\n",
    "plt.xlabel(\"Degree\")\n",
    "plt.ylabel(\"PMF\")\n",
    "plt.xlim([0, 1000])\n",
    "plt.legend()"
   ]
  },
  {
   "cell_type": "markdown",
   "metadata": {},
   "source": [
    "The model PMF peak is much higher than that of the FB PMF and is also offset."
   ]
  },
  {
   "cell_type": "markdown",
   "metadata": {},
   "source": [
    "We can then compare the CDFs of the model to the Facebook dataset."
   ]
  },
  {
   "cell_type": "code",
   "execution_count": 33,
   "metadata": {},
   "outputs": [
    {
     "data": {
      "text/plain": [
       "Text(0, 0.5, 'CDF')"
      ]
     },
     "execution_count": 33,
     "metadata": {},
     "output_type": "execute_result"
    },
    {
     "data": {
      "image/png": "[encoded data removed]",
      "text/plain": [
       "<Figure size 432x288 with 1 Axes>"
      ]
     },
     "metadata": {
      "needs_background": "light"
     },
     "output_type": "display_data"
    }
   ],
   "source": [
    "from empiricaldist import Cdf\n",
    "\n",
    "cdf_fb = Cdf.from_seq(fb_deg)\n",
    "cdf_hk = Cdf.from_seq(hk_deg)\n",
    "\n",
    "cdf_fb.plot(label = 'Facebook', color = 'C0')\n",
    "cdf_hk.plot(label = 'Holm-Kim', color = 'C1')\n",
    "plt.xscale('log')\n",
    "plt.xlabel('Degree')\n",
    "plt.ylabel('CDF')"
   ]
  },
  {
   "cell_type": "code",
   "execution_count": 34,
   "metadata": {},
   "outputs": [
    {
     "data": {
      "text/plain": [
       "<matplotlib.legend.Legend at 0x1eb127767c8>"
      ]
     },
     "execution_count": 34,
     "metadata": {},
     "output_type": "execute_result"
    },
    {
     "data": {
      "image/png": "[encoded data removed]",
      "text/plain": [
       "<Figure size 432x288 with 1 Axes>"
      ]
     },
     "metadata": {
      "needs_background": "light"
     },
     "output_type": "display_data"
    }
   ],
   "source": [
    "comp_cdf_fb = 1-cdf_fb\n",
    "comp_cdf_hk = 1-cdf_hk\n",
    "\n",
    "comp_cdf_fb.plot(label = 'Facebook', color = 'C0')\n",
    "comp_cdf_hk.plot(label = 'Holm-Kim', color = 'C1')\n",
    "plt.xscale('log')\n",
    "plt.yscale('log')\n",
    "plt.legend()"
   ]
  },
  {
   "cell_type": "code",
   "execution_count": null,
   "metadata": {},
   "outputs": [],
   "source": [
    "Although noisy, the Holm-Kim algorithm approximates well the heavy-tail behavior of the Facebook dataset."
   ]
  }
 ],
 "metadata": {
  "kernelspec": {
   "display_name": "Python 3",
   "language": "python",
   "name": "python3"
  },
  "language_info": {
   "codemirror_mode": {
    "name": "ipython",
    "version": 3
   },
   "file_extension": ".py",
   "mimetype": "text/x-python",
   "name": "python",
   "nbconvert_exporter": "python",
   "pygments_lexer": "ipython3",
   "version": "3.7.4"
  }
 },
 "nbformat": 4,
 "nbformat_minor": 2
}
