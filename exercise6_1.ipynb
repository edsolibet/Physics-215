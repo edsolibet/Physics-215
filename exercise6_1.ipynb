{
 "cells": [
  {
   "cell_type": "markdown",
   "metadata": {},
   "source": [
    "**Exercise 6.1** Start GoL in a random state and run it until it stabilizes. What stable patterns can you identify?"
   ]
  },
  {
   "cell_type": "code",
   "execution_count": 1,
   "metadata": {},
   "outputs": [
    {
     "name": "stderr",
     "output_type": "stream",
     "text": [
      "C:\\Users\\Carlo\\Anaconda3\\lib\\site-packages\\statsmodels\\tools\\_testing.py:19: FutureWarning: pandas.util.testing is deprecated. Use the functions in the public API at pandas.testing instead.\n",
      "  import pandas.util.testing as tm\n"
     ]
    }
   ],
   "source": [
    "%matplotlib inline\n",
    "\n",
    "import matplotlib.pyplot as plt\n",
    "import numpy as np\n",
    "import seaborn as sns"
   ]
  },
  {
   "cell_type": "code",
   "execution_count": 2,
   "metadata": {},
   "outputs": [
    {
     "name": "stdout",
     "output_type": "stream",
     "text": [
      "[[1 1 1 1 1 0 1 0 1 1]\n",
      " [1 0 1 1 1 1 1 1 1 1]\n",
      " [1 0 0 1 0 1 1 1 0 1]\n",
      " [0 0 1 1 1 1 1 1 0 0]\n",
      " [0 0 1 1 1 1 1 1 1 1]\n",
      " [0 0 0 1 0 0 0 0 0 1]\n",
      " [1 1 0 1 0 1 1 1 1 1]\n",
      " [0 1 0 0 0 1 1 1 1 1]\n",
      " [0 0 0 1 1 1 1 1 0 0]\n",
      " [0 0 1 1 1 1 0 0 1 1]]\n"
     ]
    }
   ],
   "source": [
    "a = np.random.randint(2, size = (10, 10), dtype = np.uint8)\n",
    "print (a)"
   ]
  },
  {
   "cell_type": "markdown",
   "metadata": {},
   "source": [
    "Instead of using for loops, we will use cross-correlation via `correlated2d`. We then use the `Cell2D` module to run GoL."
   ]
  },
  {
   "cell_type": "code",
   "execution_count": 6,
   "metadata": {},
   "outputs": [],
   "source": [
    "from scipy.signal import correlate2d\n",
    "from Cell2D import Cell2D\n",
    "\n",
    "class Life(Cell2D):\n",
    "    \n",
    "    kernel = np.array([[1, 1, 1],\n",
    "                       [1, 10, 1],\n",
    "                       [1, 1, 1]])\n",
    "    table = np.zeros(20, dtype = np.uint8)\n",
    "    table[[3, 12, 13]] = 1\n",
    "    \n",
    "    def step(self):\n",
    "        c = correlate2d(self.array, self.kernel, mode='same')\n",
    "        self.array = self.table[c]\n"
   ]
  },
  {
   "cell_type": "code",
   "execution_count": 10,
   "metadata": {},
   "outputs": [
    {
     "data": {
      "image/png": "[encoded data removed]",
      "text/plain": [
       "<Figure size 432x288 with 1 Axes>"
      ]
     },
     "metadata": {},
     "output_type": "display_data"
    }
   ],
   "source": [
    "n = 100\n",
    "life = Life(n)\n",
    "life.array = np.random.randint(2, size = (n,n), dtype = np.uint8)\n",
    "life.animate(1000)"
   ]
  },
  {
   "cell_type": "markdown",
   "metadata": {},
   "source": [
    "Some stable patterns include the 'beehive' and blocks of live cells. Additionally, given that they do not collide, there are a number of 'blinkers' either alone or in groups."
   ]
  }
 ],
 "metadata": {
  "kernelspec": {
   "display_name": "Python 3",
   "language": "python",
   "name": "python3"
  },
  "language_info": {
   "codemirror_mode": {
    "name": "ipython",
    "version": 3
   },
   "file_extension": ".py",
   "mimetype": "text/x-python",
   "name": "python",
   "nbconvert_exporter": "python",
   "pygments_lexer": "ipython3",
   "version": "3.7.4"
  }
 },
 "nbformat": 4,
 "nbformat_minor": 2
}
