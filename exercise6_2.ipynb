{
 "cells": [
  {
   "cell_type": "markdown",
   "metadata": {},
   "source": [
    "**Exercise 6.2** Many named patterns are available in portable file formats. Modify `Life.py` to parse on of these formats and initialize the grid."
   ]
  },
  {
   "cell_type": "code",
   "execution_count": 4,
   "metadata": {},
   "outputs": [
    {
     "name": "stderr",
     "output_type": "stream",
     "text": [
      "C:\\Users\\Carlo\\Anaconda3\\lib\\site-packages\\statsmodels\\tools\\_testing.py:19: FutureWarning: pandas.util.testing is deprecated. Use the functions in the public API at pandas.testing instead.\n",
      "  import pandas.util.testing as tm\n"
     ]
    }
   ],
   "source": [
    "%matplotlib inline\n",
    "\n",
    "import matplotlib.pyplot as plt\n",
    "import numpy as np\n",
    "import seaborn as sns\n",
    "from scipy.signal import correlate2d\n",
    "from Cell2D import Cell2D\n",
    "\n",
    "class Life(Cell2D):\n",
    "    \n",
    "    kernel = np.array([[1, 1, 1],\n",
    "                       [1, 10, 1],\n",
    "                       [1, 1, 1]])\n",
    "    table = np.zeros(20, dtype = np.uint8)\n",
    "    table[[3, 12, 13]] = 1\n",
    "    \n",
    "    def step(self):\n",
    "        c = correlate2d(self.array, self.kernel, mode='same')\n",
    "        self.array = self.table[c]\n"
   ]
  },
  {
   "cell_type": "code",
   "execution_count": 21,
   "metadata": {},
   "outputs": [],
   "source": [
    "def read_GoL_file(life, filename, row, col):\n",
    "    i = row\n",
    "    life_file = open(filename)\n",
    "    for i, line in enumerate(life_file):\n",
    "        if line.startswith(\"!\"):\n",
    "            continue\n",
    "        line = line.strip() #removes whitespace\n",
    "        line = line.replace('O', '1')\n",
    "        line = line.replace('.', '0')\n",
    "        life.add_cells(i, col, line)"
   ]
  },
  {
   "cell_type": "markdown",
   "metadata": {},
   "source": [
    "From large number of patterns available, I chose the \"A for All\" pattern which is period 6 oscillator. I have downloaded the plaintext version."
   ]
  },
  {
   "cell_type": "code",
   "execution_count": 22,
   "metadata": {},
   "outputs": [],
   "source": [
    "n = 30\n",
    "m = 30\n",
    "row = 10\n",
    "col = 10\n",
    "\n",
    "life = Life(n, m)\n",
    "filename = 'aforall.cells.txt'\n",
    "read_GoL_file(life, filename, row, col)"
   ]
  },
  {
   "cell_type": "code",
   "execution_count": 13,
   "metadata": {},
   "outputs": [
    {
     "data": {
      "image/png": "[encoded data removed]",
      "text/plain": [
       "<Figure size 432x288 with 1 Axes>"
      ]
     },
     "metadata": {},
     "output_type": "display_data"
    }
   ],
   "source": [
    "life.draw()"
   ]
  },
  {
   "cell_type": "code",
   "execution_count": 14,
   "metadata": {},
   "outputs": [
    {
     "data": {
      "image/png": "[encoded data removed]",
      "text/plain": [
       "<Figure size 432x288 with 1 Axes>"
      ]
     },
     "metadata": {},
     "output_type": "display_data"
    }
   ],
   "source": [
    "life.animate(60, 0.5)"
   ]
  },
  {
   "cell_type": "code",
   "execution_count": null,
   "metadata": {},
   "outputs": [],
   "source": []
  }
 ],
 "metadata": {
  "kernelspec": {
   "display_name": "Python 3",
   "language": "python",
   "name": "python3"
  },
  "language_info": {
   "codemirror_mode": {
    "name": "ipython",
    "version": 3
   },
   "file_extension": ".py",
   "mimetype": "text/x-python",
   "name": "python",
   "nbconvert_exporter": "python",
   "pygments_lexer": "ipython3",
   "version": "3.7.4"
  }
 },
 "nbformat": 4,
 "nbformat_minor": 2
}
